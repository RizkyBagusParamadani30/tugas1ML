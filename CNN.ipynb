{
 "cells": [
  {
   "cell_type": "code",
   "execution_count": 32,
   "metadata": {},
   "outputs": [],
   "source": [
    "import tensorflow as tf\n",
    "import numpy as np\n",
    "import matplotlib.pyplot as plt\n",
    "from tensorflow.keras.datasets import mnist\n",
    "from tensorflow.keras.layers import Conv2D, MaxPooling2D, Flatten, Dense, Dropout\n",
    "from tensorflow.keras.models import Sequential\n",
    "from tensorflow.keras.optimizers import Adam\n",
    "from tensorflow.keras.preprocessing.image import ImageDataGenerator\n",
    "from tensorflow.keras.optimizers import SGD\n",
    "from tensorflow.keras.utils import to_categorical\n",
    "from tensorflow.keras.layers import BatchNormalization\n",
    "import time\n",
    "import os\n",
    "\n",
    "\n",
    "# Load MNIST \n",
    "def load_dataset():\n",
    "  (x_train, y_train), (x_test, y_test) = mnist.load_data()\n",
    "  x_train = x_train.reshape(-1, 28, 28, 1)\n",
    "  x_test = x_test.reshape(-1, 28, 28, 1)\n",
    "  y_train = to_categorical(y_train)\n",
    "  y_test = to_categorical(y_test) \n",
    "  return (x_train, y_train,x_test,y_test)\n",
    "\n",
    "x_train, y_train,x_test,y_test = load_dataset()\n",
    "x_train = x_train.astype('float32')\n",
    "x_test = x_test.astype('float32')\n",
    "x_train /= 255\n",
    "x_test /= 255\n",
    "input_shape = (28, 28, 1)\n",
    "\n"
   ]
  },
  {
   "cell_type": "code",
   "execution_count": 29,
   "metadata": {},
   "outputs": [
    {
     "name": "stdout",
     "output_type": "stream",
     "text": [
      "Epoch 1/10\n"
     ]
    },
    {
     "name": "stderr",
     "output_type": "stream",
     "text": [
      "C:\\Users\\kikik\\AppData\\Local\\Temp\\ipykernel_19472\\1268032872.py:23: UserWarning: `Model.fit_generator` is deprecated and will be removed in a future version. Please use `Model.fit`, which supports generators.\n",
      "  history = model.fit_generator(datagen.flow(x_train, y_train, batch_size=32),\n"
     ]
    },
    {
     "name": "stdout",
     "output_type": "stream",
     "text": [
      "1875/1875 [==============================] - 40s 21ms/step - loss: 0.2066 - accuracy: 0.9369 - val_loss: 0.0553 - val_accuracy: 0.9823\n",
      "Epoch 2/10\n",
      "1875/1875 [==============================] - 39s 21ms/step - loss: 0.0869 - accuracy: 0.9739 - val_loss: 0.0400 - val_accuracy: 0.9879\n",
      "Epoch 3/10\n",
      "1875/1875 [==============================] - 40s 21ms/step - loss: 0.0733 - accuracy: 0.9778 - val_loss: 0.0358 - val_accuracy: 0.9882\n",
      "Epoch 4/10\n",
      "1875/1875 [==============================] - 41s 22ms/step - loss: 0.0574 - accuracy: 0.9830 - val_loss: 0.0359 - val_accuracy: 0.9893\n",
      "Epoch 5/10\n",
      "1875/1875 [==============================] - 40s 21ms/step - loss: 0.0499 - accuracy: 0.9851 - val_loss: 0.0512 - val_accuracy: 0.9824\n",
      "Epoch 6/10\n",
      "1875/1875 [==============================] - 40s 22ms/step - loss: 0.0490 - accuracy: 0.9853 - val_loss: 0.0277 - val_accuracy: 0.9914\n",
      "Epoch 7/10\n",
      "1875/1875 [==============================] - 41s 22ms/step - loss: 0.0427 - accuracy: 0.9873 - val_loss: 0.0301 - val_accuracy: 0.9898\n",
      "Epoch 8/10\n",
      "1875/1875 [==============================] - 41s 22ms/step - loss: 0.0401 - accuracy: 0.9873 - val_loss: 0.0335 - val_accuracy: 0.9902\n",
      "Epoch 9/10\n",
      "1875/1875 [==============================] - 40s 21ms/step - loss: 0.0372 - accuracy: 0.9887 - val_loss: 0.0351 - val_accuracy: 0.9902\n",
      "Epoch 10/10\n",
      "1875/1875 [==============================] - 40s 21ms/step - loss: 0.0341 - accuracy: 0.9893 - val_loss: 0.0273 - val_accuracy: 0.9918\n",
      "313/313 [==============================] - 2s 6ms/step - loss: 0.0273 - accuracy: 0.9918\n"
     ]
    }
   ],
   "source": [
    "# Data augmentation with ImageDataGenerator\n",
    "datagen = ImageDataGenerator(rotation_range=10, zoom_range=0.1, width_shift_range=0.1, height_shift_range=0.1)\n",
    "datagen.fit(x_train)\n",
    "start = time.time()\n",
    "\n",
    "# Define CNN model\n",
    "model = Sequential([\n",
    "    Conv2D(32, kernel_size=(3, 3), activation='relu', input_shape=input_shape),\n",
    "    BatchNormalization(),\n",
    "    MaxPooling2D(pool_size=(2, 2)),\n",
    "    Conv2D(64, kernel_size=(3, 3), activation='relu'),\n",
    "    BatchNormalization(),\n",
    "    MaxPooling2D(pool_size=(2, 2)),\n",
    "    Flatten(),\n",
    "    Dense(128, activation='relu'),\n",
    "    Dense(10, activation='softmax')\n",
    "])\n",
    "\n",
    "# Compile model\n",
    "opt = SGD(learning_rate=0.01, momentum=0.9)\n",
    "model.compile(optimizer=opt, loss='categorical_crossentropy', metrics=['accuracy'])\n",
    "# Train model with data augmentation\n",
    "history = model.fit(datagen.flow(x_train, y_train, batch_size=32), \n",
    "                              steps_per_epoch=len(x_train) // 32, epochs=10, validation_data=(x_test, y_test))\n",
    "end = time.time()\n",
    "total = end-start\n",
    "test_loss, test_acc = model.evaluate(x_test, y_test)\n"
   ]
  },
  {
   "cell_type": "code",
   "execution_count": 30,
   "metadata": {},
   "outputs": [
    {
     "name": "stdout",
     "output_type": "stream",
     "text": [
      "Test loss: 0.02727542445063591\n",
      "Test accuracy: 0.9918000102043152\n",
      "Finsih Traine 6.717317668596904 minute\n",
      "No GPU found\n"
     ]
    }
   ],
   "source": [
    "print('Test loss:', test_loss)\n",
    "print('Test accuracy:', test_acc)\n",
    "print(f\"Finsih Traine {total/60} minute\")\n",
    "os.environ['CUDA_VISIBLE_DEVICES'] = ''   \n",
    "if tf.test.gpu_device_name():\n",
    "    print('GPU found')\n",
    "else:\n",
    "    print(\"No GPU found\")"
   ]
  },
  {
   "cell_type": "code",
   "execution_count": 31,
   "metadata": {},
   "outputs": [
    {
     "name": "stdout",
     "output_type": "stream",
     "text": [
      "313/313 [==============================] - 2s 5ms/step\n",
      "7\n"
     ]
    },
    {
     "data": {
      "image/png": "[encoded data removed]",
      "text/plain": [
       "<Figure size 640x480 with 1 Axes>"
      ]
     },
     "metadata": {},
     "output_type": "display_data"
    }
   ],
   "source": [
    "predictions = model.predict(x_test)\n",
    "print(np.argmax(np.round(predictions[0])))\n",
    "plt.imshow(x_test[0].reshape(28, 28), cmap = plt.cm.binary)\n",
    "plt.show()"
   ]
  }
 ],
 "metadata": {
  "kernelspec": {
   "display_name": "base",
   "language": "python",
   "name": "python3"
  },
  "language_info": {
   "codemirror_mode": {
    "name": "ipython",
    "version": 3
   },
   "file_extension": ".py",
   "mimetype": "text/x-python",
   "name": "python",
   "nbconvert_exporter": "python",
   "pygments_lexer": "ipython3",
   "version": "3.9.16"
  },
  "orig_nbformat": 4
 },
 "nbformat": 4,
 "nbformat_minor": 2
}
